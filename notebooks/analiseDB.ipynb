{
 "cells": [
  {
   "cell_type": "code",
   "execution_count": 36,
   "metadata": {},
   "outputs": [
    {
     "name": "stdout",
     "output_type": "stream",
     "text": [
      "<class 'pandas.core.frame.DataFrame'>\n",
      "RangeIndex: 4418350 entries, 0 to 4418349\n",
      "Data columns (total 13 columns):\n",
      "CAD Event Number               object\n",
      "Event Clearance Description    object\n",
      "Call Type                      object\n",
      "Priority                       int64\n",
      "Initial Call Type              object\n",
      "Final Call Type                object\n",
      "Original Time Queued           object\n",
      "Arrived Time                   object\n",
      "Precinct                       object\n",
      "Sector                         object\n",
      "Beat                           object\n",
      "Blurred_Longitude              float64\n",
      "Blurred_Latitude               float64\n",
      "dtypes: float64(2), int64(1), object(10)\n",
      "memory usage: 438.2+ MB\n"
     ]
    }
   ],
   "source": [
    "import pandas\n",
    "\n",
    "# leitura db (data August 21, 2020)\n",
    "dataset = pandas.read_csv(\"datasets\\Call_Data.csv\", sep=',', dtype={\"CAD Event Number\": str,\n",
    "                                                                   \"Event Clearance Description\": str,\n",
    "                                                                   \"Call Type\": str,\n",
    "                                                                   \"Initial Call Type\": str,\n",
    "                                                                   \"Final Call Type\": str,\n",
    "                                                                   \"Precinct\": str,\n",
    "                                                                   \"Sector\": str,\n",
    "                                                                   \"Beat\": str})\n",
    "\n",
    "'''\n",
    "Lista das colunas em ordem:\n",
    "\n",
    "CAD Event Number,Event Clearance Description,Call Type,Priority,Initial Call Type,Final Call Type,\n",
    "Original Time Queued,Arrived Time,Precinct,Sector,Beat,Blurred_Longitude,Blurred_Latitude\n",
    "\n",
    "'''\n",
    "\n",
    "\n",
    "dataset.shape\n",
    "\n",
    "# Mostra em que formato se encontra os dados\n",
    "dataset.info()"
   ]
  },
  {
   "cell_type": "code",
   "execution_count": 10,
   "metadata": {},
   "outputs": [
    {
     "data": {
      "text/html": [
       "<div>\n",
       "<style scoped>\n",
       "    .dataframe tbody tr th:only-of-type {\n",
       "        vertical-align: middle;\n",
       "    }\n",
       "\n",
       "    .dataframe tbody tr th {\n",
       "        vertical-align: top;\n",
       "    }\n",
       "\n",
       "    .dataframe thead th {\n",
       "        text-align: right;\n",
       "    }\n",
       "</style>\n",
       "<table border=\"1\" class=\"dataframe\">\n",
       "  <thead>\n",
       "    <tr style=\"text-align: right;\">\n",
       "      <th></th>\n",
       "      <th>CAD Event Number</th>\n",
       "      <th>Event Clearance Description</th>\n",
       "      <th>Call Type</th>\n",
       "      <th>Priority</th>\n",
       "      <th>Initial Call Type</th>\n",
       "      <th>Final Call Type</th>\n",
       "      <th>Original Time Queued</th>\n",
       "      <th>Arrived Time</th>\n",
       "      <th>Precinct</th>\n",
       "      <th>Sector</th>\n",
       "      <th>Beat</th>\n",
       "      <th>Blurred_Longitude</th>\n",
       "      <th>Blurred_Latitude</th>\n",
       "    </tr>\n",
       "  </thead>\n",
       "  <tbody>\n",
       "    <tr>\n",
       "      <th>0</th>\n",
       "      <td>2015000009853</td>\n",
       "      <td>CITATION ISSUED (CRIMINAL OR NON-CRIMINAL)</td>\n",
       "      <td>TELEPHONE OTHER, NOT 911</td>\n",
       "      <td>3</td>\n",
       "      <td>PARKING VIOLATION (EXCEPT ABANDONED CAR)</td>\n",
       "      <td>--TRAFFIC - PARKING VIOL (EXCEPT ABANDONED CAR)</td>\n",
       "      <td>01/09/2015 21:53:56 PM</td>\n",
       "      <td>Jan 01 1900 00:00:00:000AM</td>\n",
       "      <td>NORTH</td>\n",
       "      <td>UNION</td>\n",
       "      <td>U3</td>\n",
       "      <td>-122.272566</td>\n",
       "      <td>47.667146</td>\n",
       "    </tr>\n",
       "    <tr>\n",
       "      <th>1</th>\n",
       "      <td>2016000024893</td>\n",
       "      <td>REPORT WRITTEN (NO ARREST)</td>\n",
       "      <td>TELEPHONE OTHER, NOT 911</td>\n",
       "      <td>6</td>\n",
       "      <td>SECONDARY - THEFT (NOT SHOPLIFT OR SERVICES)</td>\n",
       "      <td>--THEFT - CAR PROWL</td>\n",
       "      <td>01/21/2016 18:50:31 PM</td>\n",
       "      <td>Jan 21 2016 20:41:00:000PM</td>\n",
       "      <td>WEST</td>\n",
       "      <td>KING</td>\n",
       "      <td>K1</td>\n",
       "      <td>-122.338327</td>\n",
       "      <td>47.605300</td>\n",
       "    </tr>\n",
       "    <tr>\n",
       "      <th>2</th>\n",
       "      <td>2015000377718</td>\n",
       "      <td>PHYSICAL ARREST MADE</td>\n",
       "      <td>ONVIEW</td>\n",
       "      <td>2</td>\n",
       "      <td>WARRANT - FELONY PICKUP</td>\n",
       "      <td>--WARRANT SERVICES - MISDEMEANOR</td>\n",
       "      <td>10/28/2015 14:27:11 PM</td>\n",
       "      <td>Oct 28 2015 14:27:11:000PM</td>\n",
       "      <td>EAST</td>\n",
       "      <td>EDWARD</td>\n",
       "      <td>E1</td>\n",
       "      <td>-122.319541</td>\n",
       "      <td>47.619917</td>\n",
       "    </tr>\n",
       "    <tr>\n",
       "      <th>3</th>\n",
       "      <td>2016000029470</td>\n",
       "      <td>REPORT WRITTEN (NO ARREST)</td>\n",
       "      <td>TELEPHONE OTHER, NOT 911</td>\n",
       "      <td>3</td>\n",
       "      <td>MVC - HIT AND RUN (NON INJURY), INCLUDES IP/JO</td>\n",
       "      <td>--TRAFFIC - MV COLLISION INVESTIGATION</td>\n",
       "      <td>01/25/2016 15:22:08 PM</td>\n",
       "      <td>Jan 25 2016 18:03:05:000PM</td>\n",
       "      <td>NORTH</td>\n",
       "      <td>BOY</td>\n",
       "      <td>B1</td>\n",
       "      <td>-122.388861</td>\n",
       "      <td>47.668674</td>\n",
       "    </tr>\n",
       "    <tr>\n",
       "      <th>4</th>\n",
       "      <td>2017000162008</td>\n",
       "      <td>PROBLEM SOLVING PROJECT</td>\n",
       "      <td>ONVIEW</td>\n",
       "      <td>7</td>\n",
       "      <td>PREMISE CHECK, OFFICER INITIATED ONVIEW ONLY</td>\n",
       "      <td>--PREMISE CHECKS - BUSINESS CHECK</td>\n",
       "      <td>05/09/2017 00:06:25 AM</td>\n",
       "      <td>May 09 2017 00:06:25:000AM</td>\n",
       "      <td>NORTH</td>\n",
       "      <td>LINCOLN</td>\n",
       "      <td>L3</td>\n",
       "      <td>-1.000000</td>\n",
       "      <td>-1.000000</td>\n",
       "    </tr>\n",
       "  </tbody>\n",
       "</table>\n",
       "</div>"
      ],
      "text/plain": [
       "  CAD Event Number                 Event Clearance Description  \\\n",
       "0    2015000009853  CITATION ISSUED (CRIMINAL OR NON-CRIMINAL)   \n",
       "1    2016000024893                  REPORT WRITTEN (NO ARREST)   \n",
       "2    2015000377718                        PHYSICAL ARREST MADE   \n",
       "3    2016000029470                  REPORT WRITTEN (NO ARREST)   \n",
       "4    2017000162008                     PROBLEM SOLVING PROJECT   \n",
       "\n",
       "                  Call Type  Priority  \\\n",
       "0  TELEPHONE OTHER, NOT 911         3   \n",
       "1  TELEPHONE OTHER, NOT 911         6   \n",
       "2                    ONVIEW         2   \n",
       "3  TELEPHONE OTHER, NOT 911         3   \n",
       "4                    ONVIEW         7   \n",
       "\n",
       "                                Initial Call Type  \\\n",
       "0        PARKING VIOLATION (EXCEPT ABANDONED CAR)   \n",
       "1    SECONDARY - THEFT (NOT SHOPLIFT OR SERVICES)   \n",
       "2                         WARRANT - FELONY PICKUP   \n",
       "3  MVC - HIT AND RUN (NON INJURY), INCLUDES IP/JO   \n",
       "4    PREMISE CHECK, OFFICER INITIATED ONVIEW ONLY   \n",
       "\n",
       "                                   Final Call Type    Original Time Queued  \\\n",
       "0  --TRAFFIC - PARKING VIOL (EXCEPT ABANDONED CAR)  01/09/2015 21:53:56 PM   \n",
       "1                              --THEFT - CAR PROWL  01/21/2016 18:50:31 PM   \n",
       "2                 --WARRANT SERVICES - MISDEMEANOR  10/28/2015 14:27:11 PM   \n",
       "3           --TRAFFIC - MV COLLISION INVESTIGATION  01/25/2016 15:22:08 PM   \n",
       "4                --PREMISE CHECKS - BUSINESS CHECK  05/09/2017 00:06:25 AM   \n",
       "\n",
       "                 Arrived Time Precinct   Sector Beat  Blurred_Longitude  \\\n",
       "0  Jan 01 1900 00:00:00:000AM    NORTH    UNION   U3        -122.272566   \n",
       "1  Jan 21 2016 20:41:00:000PM     WEST     KING   K1        -122.338327   \n",
       "2  Oct 28 2015 14:27:11:000PM     EAST   EDWARD   E1        -122.319541   \n",
       "3  Jan 25 2016 18:03:05:000PM    NORTH      BOY   B1        -122.388861   \n",
       "4  May 09 2017 00:06:25:000AM    NORTH  LINCOLN   L3          -1.000000   \n",
       "\n",
       "   Blurred_Latitude  \n",
       "0         47.667146  \n",
       "1         47.605300  \n",
       "2         47.619917  \n",
       "3         47.668674  \n",
       "4         -1.000000  "
      ]
     },
     "execution_count": 10,
     "metadata": {},
     "output_type": "execute_result"
    }
   ],
   "source": [
    "# Mostra 5 linhas da base de dados\n",
    "\n",
    "dataset.head(5)"
   ]
  },
  {
   "cell_type": "code",
   "execution_count": 3,
   "metadata": {},
   "outputs": [
    {
     "data": {
      "text/plain": [
       "CAD Event Number               4418350\n",
       "Event Clearance Description    4418350\n",
       "Call Type                      4418350\n",
       "Priority                       4418350\n",
       "Initial Call Type              4418350\n",
       "Final Call Type                4418350\n",
       "Original Time Queued           4418350\n",
       "Arrived Time                   4418350\n",
       "Precinct                       4418350\n",
       "Sector                         4375472\n",
       "Beat                           4418350\n",
       "Blurred_Longitude              4418350\n",
       "Blurred_Latitude               4418350\n",
       "dtype: int64"
      ]
     },
     "execution_count": 3,
     "metadata": {},
     "output_type": "execute_result"
    }
   ],
   "source": [
    "# contagem simples de dados\n",
    "\n",
    "dataset.count()"
   ]
  },
  {
   "cell_type": "code",
   "execution_count": 4,
   "metadata": {},
   "outputs": [
    {
     "data": {
      "text/plain": [
       "CAD Event Number                   0\n",
       "Event Clearance Description        0\n",
       "Call Type                          0\n",
       "Priority                           0\n",
       "Initial Call Type                  0\n",
       "Final Call Type                    0\n",
       "Original Time Queued               0\n",
       "Arrived Time                       0\n",
       "Precinct                           0\n",
       "Sector                         42878\n",
       "Beat                               0\n",
       "Blurred_Longitude                  0\n",
       "Blurred_Latitude                   0\n",
       "dtype: int64"
      ]
     },
     "execution_count": 4,
     "metadata": {},
     "output_type": "execute_result"
    }
   ],
   "source": [
    "# verifica quais colunas possuem valores nulos\n",
    "\n",
    "dataset.isnull().sum()"
   ]
  },
  {
   "cell_type": "code",
   "execution_count": 6,
   "metadata": {},
   "outputs": [
    {
     "data": {
      "text/plain": [
       "25"
      ]
     },
     "execution_count": 6,
     "metadata": {},
     "output_type": "execute_result"
    }
   ],
   "source": [
    "# verifica a quantidade de \"Descrição final\" que são únicas\n",
    "\n",
    "dataset[\"Event Clearance Description\"].nunique()"
   ]
  },
  {
   "cell_type": "code",
   "execution_count": 12,
   "metadata": {},
   "outputs": [
    {
     "data": {
      "text/plain": [
       "315"
      ]
     },
     "execution_count": 12,
     "metadata": {},
     "output_type": "execute_result"
    }
   ],
   "source": [
    "# verifica a quantidade de \"Classificação inicial\" que são únicas\n",
    "\n",
    "dataset[\"Initial Call Type\"].nunique()"
   ]
  },
  {
   "cell_type": "code",
   "execution_count": 7,
   "metadata": {},
   "outputs": [
    {
     "data": {
      "text/plain": [
       "419"
      ]
     },
     "execution_count": 7,
     "metadata": {},
     "output_type": "execute_result"
    }
   ],
   "source": [
    "# verifica a quantidade de \"Classificação final\" que são únicas\n",
    "\n",
    "dataset[\"Final Call Type\"].nunique()"
   ]
  },
  {
   "cell_type": "code",
   "execution_count": 59,
   "metadata": {},
   "outputs": [
    {
     "data": {
      "text/plain": [
       "0    CITATION\n",
       "1      REPORT\n",
       "2    PHYSICAL\n",
       "3      REPORT\n",
       "4     PROBLEM\n",
       "Name: Prank, dtype: object"
      ]
     },
     "execution_count": 59,
     "metadata": {},
     "output_type": "execute_result"
    }
   ],
   "source": [
    "dataset['call_type'] = dataset['Call Type'].apply(lambda title:title.split(\" \")[0])\n",
    "dataset[\"Prank\"].head(5)"
   ]
  },
  {
   "cell_type": "code",
   "execution_count": 11,
   "metadata": {},
   "outputs": [
    {
     "data": {
      "text/plain": [
       "<matplotlib.axes._subplots.AxesSubplot at 0x1d682390c18>"
      ]
     },
     "execution_count": 11,
     "metadata": {},
     "output_type": "execute_result"
    }
   ],
   "source": [
    "import seaborn as sns\n",
    "sns.countplot(x='Event Clearance Description',data=dataset,palette='viridis')"
   ]
  },
  {
   "cell_type": "code",
   "execution_count": 43,
   "metadata": {},
   "outputs": [
    {
     "data": {
      "text/plain": [
       "0   2015-01-09 21:53:56\n",
       "1   2016-01-21 18:50:31\n",
       "2   2015-10-28 14:27:11\n",
       "3   2016-01-25 15:22:08\n",
       "4   2017-05-09 00:06:25\n",
       "Name: Original Time Queued, dtype: datetime64[ns]"
      ]
     },
     "execution_count": 43,
     "metadata": {},
     "output_type": "execute_result"
    }
   ],
   "source": [
    "from datetime import datetime\n",
    "\n",
    "# transforma a data do registro em datetime\n",
    "\n",
    "\"\"\"\n",
    "01/09/2015 21:53:56 PM\n",
    "\"\"\"\n",
    "\n",
    "def date_convert(date_to_convert):\n",
    "     return datetime.strptime(date_to_convert, \"%m/%d/%Y %H:%M:%S\")\n",
    "\n",
    "\n",
    "dataset['Original Time Queued'] = dataset['Original Time Queued'].str.replace(\" [A|P]?M\", \"\")\n",
    "dataset['Original Time Queued'] = dataset['Original Time Queued'].apply(date_convert)"
   ]
  },
  {
   "cell_type": "code",
   "execution_count": 46,
   "metadata": {},
   "outputs": [],
   "source": [
    "# adiciona as colunas \"Hora, Mês e Dia da Semana\" do registro\n",
    "\n",
    "dataset['Hour'] = dataset['Original Time Queued'].apply(lambda time:time.hour)\n",
    "dataset['Month'] = dataset['Original Time Queued'].apply(lambda time:time.month)\n",
    "dataset['Day of Week'] = dataset['Original Time Queued'].apply(lambda time:time.dayofweek)"
   ]
  },
  {
   "cell_type": "code",
   "execution_count": 49,
   "metadata": {},
   "outputs": [],
   "source": [
    "# mapeamento do dia da semana com o nome\n",
    "\n",
    "dmap={0:'Mon',1:'Tue',2:'Wed',3:'Thu',4:'Fri',5:'Sat',6:'Sun'}\n",
    "\n",
    "dataset['Day of Week'] = dataset['Day of Week'].map(dmap)"
   ]
  },
  {
   "cell_type": "code",
   "execution_count": 52,
   "metadata": {},
   "outputs": [
    {
     "ename": "ValueError",
     "evalue": "Could not interpret input 'Reason'",
     "output_type": "error",
     "traceback": [
      "\u001b[1;31m---------------------------------------------------------------------------\u001b[0m",
      "\u001b[1;31mValueError\u001b[0m                                Traceback (most recent call last)",
      "\u001b[1;32m<ipython-input-52-44d933dc94d1>\u001b[0m in \u001b[0;36m<module>\u001b[1;34m()\u001b[0m\n\u001b[1;32m----> 1\u001b[1;33m \u001b[0msns\u001b[0m\u001b[1;33m.\u001b[0m\u001b[0mcountplot\u001b[0m\u001b[1;33m(\u001b[0m\u001b[0mx\u001b[0m\u001b[1;33m=\u001b[0m\u001b[1;34m'Day of Week'\u001b[0m\u001b[1;33m,\u001b[0m\u001b[0mdata\u001b[0m\u001b[1;33m=\u001b[0m\u001b[0mdataset\u001b[0m\u001b[1;33m,\u001b[0m\u001b[0mhue\u001b[0m\u001b[1;33m=\u001b[0m\u001b[1;34m'Reason'\u001b[0m\u001b[1;33m,\u001b[0m\u001b[0mpalette\u001b[0m\u001b[1;33m=\u001b[0m\u001b[1;34m'viridis'\u001b[0m\u001b[1;33m)\u001b[0m\u001b[1;33m\u001b[0m\u001b[0m\n\u001b[0m",
      "\u001b[1;32mE:\\Arquivos Robert\\WPy-3662\\python-3.6.6.amd64\\lib\\site-packages\\seaborn\\categorical.py\u001b[0m in \u001b[0;36mcountplot\u001b[1;34m(x, y, hue, data, order, hue_order, orient, color, palette, saturation, dodge, ax, **kwargs)\u001b[0m\n\u001b[0;32m   3551\u001b[0m                           \u001b[0mestimator\u001b[0m\u001b[1;33m,\u001b[0m \u001b[0mci\u001b[0m\u001b[1;33m,\u001b[0m \u001b[0mn_boot\u001b[0m\u001b[1;33m,\u001b[0m \u001b[0munits\u001b[0m\u001b[1;33m,\u001b[0m\u001b[1;33m\u001b[0m\u001b[0m\n\u001b[0;32m   3552\u001b[0m                           \u001b[0morient\u001b[0m\u001b[1;33m,\u001b[0m \u001b[0mcolor\u001b[0m\u001b[1;33m,\u001b[0m \u001b[0mpalette\u001b[0m\u001b[1;33m,\u001b[0m \u001b[0msaturation\u001b[0m\u001b[1;33m,\u001b[0m\u001b[1;33m\u001b[0m\u001b[0m\n\u001b[1;32m-> 3553\u001b[1;33m                           errcolor, errwidth, capsize, dodge)\n\u001b[0m\u001b[0;32m   3554\u001b[0m \u001b[1;33m\u001b[0m\u001b[0m\n\u001b[0;32m   3555\u001b[0m     \u001b[0mplotter\u001b[0m\u001b[1;33m.\u001b[0m\u001b[0mvalue_label\u001b[0m \u001b[1;33m=\u001b[0m \u001b[1;34m\"count\"\u001b[0m\u001b[1;33m\u001b[0m\u001b[0m\n",
      "\u001b[1;32mE:\\Arquivos Robert\\WPy-3662\\python-3.6.6.amd64\\lib\\site-packages\\seaborn\\categorical.py\u001b[0m in \u001b[0;36m__init__\u001b[1;34m(self, x, y, hue, data, order, hue_order, estimator, ci, n_boot, units, orient, color, palette, saturation, errcolor, errwidth, capsize, dodge)\u001b[0m\n\u001b[0;32m   1605\u001b[0m         \u001b[1;34m\"\"\"Initialize the plotter.\"\"\"\u001b[0m\u001b[1;33m\u001b[0m\u001b[0m\n\u001b[0;32m   1606\u001b[0m         self.establish_variables(x, y, hue, data, orient,\n\u001b[1;32m-> 1607\u001b[1;33m                                  order, hue_order, units)\n\u001b[0m\u001b[0;32m   1608\u001b[0m         \u001b[0mself\u001b[0m\u001b[1;33m.\u001b[0m\u001b[0mestablish_colors\u001b[0m\u001b[1;33m(\u001b[0m\u001b[0mcolor\u001b[0m\u001b[1;33m,\u001b[0m \u001b[0mpalette\u001b[0m\u001b[1;33m,\u001b[0m \u001b[0msaturation\u001b[0m\u001b[1;33m)\u001b[0m\u001b[1;33m\u001b[0m\u001b[0m\n\u001b[0;32m   1609\u001b[0m         \u001b[0mself\u001b[0m\u001b[1;33m.\u001b[0m\u001b[0mestimate_statistic\u001b[0m\u001b[1;33m(\u001b[0m\u001b[0mestimator\u001b[0m\u001b[1;33m,\u001b[0m \u001b[0mci\u001b[0m\u001b[1;33m,\u001b[0m \u001b[0mn_boot\u001b[0m\u001b[1;33m)\u001b[0m\u001b[1;33m\u001b[0m\u001b[0m\n",
      "\u001b[1;32mE:\\Arquivos Robert\\WPy-3662\\python-3.6.6.amd64\\lib\\site-packages\\seaborn\\categorical.py\u001b[0m in \u001b[0;36mestablish_variables\u001b[1;34m(self, x, y, hue, data, orient, order, hue_order, units)\u001b[0m\n\u001b[0;32m    153\u001b[0m                 \u001b[1;32mif\u001b[0m \u001b[0misinstance\u001b[0m\u001b[1;33m(\u001b[0m\u001b[0minput\u001b[0m\u001b[1;33m,\u001b[0m \u001b[0mstring_types\u001b[0m\u001b[1;33m)\u001b[0m\u001b[1;33m:\u001b[0m\u001b[1;33m\u001b[0m\u001b[0m\n\u001b[0;32m    154\u001b[0m                     \u001b[0merr\u001b[0m \u001b[1;33m=\u001b[0m \u001b[1;34m\"Could not interpret input '{}'\"\u001b[0m\u001b[1;33m.\u001b[0m\u001b[0mformat\u001b[0m\u001b[1;33m(\u001b[0m\u001b[0minput\u001b[0m\u001b[1;33m)\u001b[0m\u001b[1;33m\u001b[0m\u001b[0m\n\u001b[1;32m--> 155\u001b[1;33m                     \u001b[1;32mraise\u001b[0m \u001b[0mValueError\u001b[0m\u001b[1;33m(\u001b[0m\u001b[0merr\u001b[0m\u001b[1;33m)\u001b[0m\u001b[1;33m\u001b[0m\u001b[0m\n\u001b[0m\u001b[0;32m    156\u001b[0m \u001b[1;33m\u001b[0m\u001b[0m\n\u001b[0;32m    157\u001b[0m             \u001b[1;31m# Figure out the plotting orientation\u001b[0m\u001b[1;33m\u001b[0m\u001b[1;33m\u001b[0m\u001b[0m\n",
      "\u001b[1;31mValueError\u001b[0m: Could not interpret input 'Reason'"
     ]
    }
   ],
   "source": [
    "sns.countplot(x='Day of Week',data=dataset,hue='Reason',palette='viridis')"
   ]
  },
  {
   "cell_type": "code",
   "execution_count": null,
   "metadata": {},
   "outputs": [],
   "source": []
  }
 ],
 "metadata": {
  "kernelspec": {
   "display_name": "Python 3",
   "language": "python",
   "name": "python3"
  },
  "language_info": {
   "codemirror_mode": {
    "name": "ipython",
    "version": 3
   },
   "file_extension": ".py",
   "mimetype": "text/x-python",
   "name": "python",
   "nbconvert_exporter": "python",
   "pygments_lexer": "ipython3",
   "version": "3.6.6"
  }
 },
 "nbformat": 4,
 "nbformat_minor": 2
}
